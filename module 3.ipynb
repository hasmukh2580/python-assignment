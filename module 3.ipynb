{
 "cells": [
  {
   "cell_type": "code",
   "execution_count": 1,
   "id": "db945495",
   "metadata": {},
   "outputs": [
    {
     "name": "stdout",
     "output_type": "stream",
     "text": [
      "[23, 88, 67, 54, 23, 77, 65, 867, 67]\n"
     ]
    }
   ],
   "source": [
    "1.#What is List? How will you reverse a list?\n",
    "''' ans -  list are used to store multiple items in single variable.\n",
    "             The reverse() method is a built-in method that reverse the list in place. '''\n",
    "a=[67,867,65,77,23,54,67,88,23]\n",
    "a.reverse()\n",
    "print(a)"
   ]
  },
  {
   "cell_type": "code",
   "execution_count": 2,
   "id": "74adc6d9",
   "metadata": {},
   "outputs": [
    {
     "name": "stdout",
     "output_type": "stream",
     "text": [
      "[66, 7, 45, 67, 83]\n",
      "[66, 7, 45, 67]\n"
     ]
    }
   ],
   "source": [
    "2.#How will you remove last object from a list? Suppose list1 is [2, 33, 222, 14, and 25], what is list1 [-1]? \n",
    "abc=[66,7,45,67,83]\n",
    "print(abc)\n",
    "abc.pop(-1)\n",
    "print(abc)"
   ]
  },
  {
   "cell_type": "code",
   "execution_count": 3,
   "id": "c9715553",
   "metadata": {},
   "outputs": [
    {
     "name": "stdout",
     "output_type": "stream",
     "text": [
      "[28, 66, 46, 87, 34, 24, 23, 76, ['rishi', 'shyam']]\n",
      "[54, 5, 34, 46, 23, 87, 45, 'ashu', 'jemin']\n"
     ]
    }
   ],
   "source": [
    "3.#Differentiate between append () and extend () methods?\n",
    "'''     append()                                                                 extend()\n",
    "> This is used for add new list in other list   > This is used for add element in other list\n",
    "    (nested list)                                               \n",
    "'''\n",
    "#append()              \n",
    "a1=[28,66,46,87,34,24,23,76]\n",
    "b=['rishi','shyam']\n",
    "a1.append(b)\n",
    "print(a1)\n",
    "#extend()\n",
    "yy=[54,5,34,46,23,87,45]\n",
    "xx=['ashu','jemin']\n",
    "yy.extend(xx)\n",
    "print(yy)"
   ]
  },
  {
   "cell_type": "code",
   "execution_count": 5,
   "id": "b81407a9",
   "metadata": {},
   "outputs": [
    {
     "name": "stdout",
     "output_type": "stream",
     "text": [
      "How many numbers: 9\n",
      "Enter number 6\n",
      "Enter number 3\n",
      "Enter number 5\n",
      "Enter number 8\n",
      "Enter number 4\n",
      "Enter number 2\n",
      "Enter number 7\n",
      "Enter number 3\n",
      "Enter number 5\n",
      "Maximum element in the list is : 8\n",
      "Minimum element in the list is : 2\n",
      " sum element in the list is : 43\n"
     ]
    }
   ],
   "source": [
    "'''4.Write a Python function to get the largest number, smallest num and sum\n",
    "of all from a list. '''\n",
    "rr= []\n",
    "n= int(input('How many numbers: '))\n",
    "for n1 in range(n):\n",
    "    num = int(input('Enter number '))\n",
    "    rr.append(num)\n",
    "print(\"Maximum element in the list is :\", max(rr))\n",
    "print(\"Minimum element in the list is :\", min(rr))\n",
    "print(\" sum element in the list is :\", sum(rr))"
   ]
  },
  {
   "cell_type": "code",
   "execution_count": 6,
   "id": "286cd647",
   "metadata": {},
   "outputs": [
    {
     "name": "stdout",
     "output_type": "stream",
     "text": [
      "The list1 and list2 are not equal\n"
     ]
    }
   ],
   "source": [
    "5.#How will you compare two lists? \n",
    "l = [5656,34,54,57,67,454,32,]  \n",
    "l1 = [34,45,576,343,465,34]  \n",
    "if l== l1:  \n",
    "    print(\"The list1 and list2 are equal\")  \n",
    "else:  \n",
    "    print(\"The list1 and list2 are not equal\")  "
   ]
  },
  {
   "cell_type": "code",
   "execution_count": 7,
   "id": "a668470b",
   "metadata": {},
   "outputs": [
    {
     "name": "stdout",
     "output_type": "stream",
     "text": [
      "1\n"
     ]
    }
   ],
   "source": [
    "'''6.Write a Python program to count the number of strings where the string\n",
    "length is 2 or more and the first and last character are same from a given\n",
    "list of strings. '''\n",
    "l=[\"ayush\",\"shxs\",\"6555\",\"xhh\"]\n",
    "yy = 0\n",
    "for a in l:\n",
    "\tif len(a) >= 2 and a[0] == a[-1]:\n",
    "\t   yy+= 1\n",
    "print(yy)"
   ]
  },
  {
   "cell_type": "code",
   "execution_count": 8,
   "id": "43db2d7e",
   "metadata": {},
   "outputs": [
    {
     "name": "stdout",
     "output_type": "stream",
     "text": [
      "[4, 332, 23, 33, 44, 53, 46, 3, 2, 5]\n"
     ]
    }
   ],
   "source": [
    "7.#Write a Python program to remove duplicates from a list?\n",
    "list=[4,332,23,33,44,33,44,53,46,3,2,4,5,5]\n",
    "newlist=[]\n",
    "for y in list:\n",
    "    if y not in newlist:\n",
    "        newlist.append(y)\n",
    "    else:\n",
    "        pass\n",
    "d=newlist\n",
    "print(d)"
   ]
  },
  {
   "cell_type": "code",
   "execution_count": 9,
   "id": "6d036006",
   "metadata": {},
   "outputs": [
    {
     "name": "stdout",
     "output_type": "stream",
     "text": [
      "list is not empty\n",
      "Empty list\n"
     ]
    }
   ],
   "source": [
    "8.#Write a Python program to check a list is empty or not?\n",
    "a = [4,5,3,2,1]     #using not operator\n",
    "if not a:\n",
    "  print(\"List is empty\")\n",
    "else:\n",
    "    print(\"list is not empty\")\n",
    "#using len()\n",
    "\n",
    "l = []\n",
    "\n",
    "# Checking whether the list size is equal to 0\n",
    "if len(l) == 0:\n",
    "   print('Empty list')\n",
    "else:\n",
    "   print('Not Empty list')"
   ]
  },
  {
   "cell_type": "code",
   "execution_count": 10,
   "id": "2517f3b2",
   "metadata": {},
   "outputs": [
    {
     "name": "stdout",
     "output_type": "stream",
     "text": [
      "True\n"
     ]
    }
   ],
   "source": [
    "9.#Write a Python function that takes two lists and returns true if they have at least one common member?\n",
    "l1=[5,434,4455,5656,56,54,]\n",
    "l2=[6,34,56,54,434]\n",
    "r=False\n",
    "for y in l1:\n",
    "    for t in l2:\n",
    "        if y==t:\n",
    "            r=True\n",
    "print(r)"
   ]
  },
  {
   "cell_type": "code",
   "execution_count": 11,
   "id": "716ace2b",
   "metadata": {},
   "outputs": [
    {
     "name": "stdout",
     "output_type": "stream",
     "text": [
      "[1, 5, 7, 46, 6, 4]\n"
     ]
    }
   ],
   "source": [
    "11.#Write a Python function that takes a list and returns a new list with unique elements of the first list?\n",
    "l1=[1,5,7,46,5,6,4,4,]\n",
    "tt=[]\n",
    "for y in l1:\n",
    "    if y not in tt:\n",
    "        tt.append(y)\n",
    "    else:\n",
    "        pass\n",
    "print(tt)"
   ]
  },
  {
   "cell_type": "code",
   "execution_count": 13,
   "id": "530db8c7",
   "metadata": {},
   "outputs": [
    {
     "name": "stdout",
     "output_type": "stream",
     "text": [
      "hasu\n"
     ]
    }
   ],
   "source": [
    "12.#Write a Python program to convert a list of characters into a string?\n",
    "l1= ['h', 'a', 's', 'u']\n",
    "s =''.join(l1)\n",
    "print(s)"
   ]
  },
  {
   "cell_type": "code",
   "execution_count": 14,
   "id": "2c3c26c3",
   "metadata": {},
   "outputs": [
    {
     "name": "stdout",
     "output_type": "stream",
     "text": [
      "White\n"
     ]
    }
   ],
   "source": [
    "13.#Write a Python program to select an item randomly from a list?\n",
    "import random\n",
    "colorlist= ['white', 'purple', 'pink', 'White', 'Black']\n",
    "print(random.choice(colorlist))\n"
   ]
  },
  {
   "cell_type": "code",
   "execution_count": 15,
   "id": "94e7ccea",
   "metadata": {},
   "outputs": [
    {
     "name": "stdout",
     "output_type": "stream",
     "text": [
      "Largest element is: 455\n",
      "Smallest element is: 15\n",
      "Second Largest element is: 431\n",
      "Second Smallest element is: 23\n"
     ]
    }
   ],
   "source": [
    "14.#Write a Python program to find the second smallest number in a list?\n",
    "l1=[15, 455, 234, 431, 23, 134, 24, 26, 84]\n",
    "len1 = len(l1)\n",
    "l1.sort()\n",
    "print(\"Largest element is:\", l1[len1-1])\n",
    "print(\"Smallest element is:\", l1[0])\n",
    "print(\"Second Largest element is:\", l1[len1-2])\n",
    "print(\"Second Smallest element is:\", l1[1])\n",
    " "
   ]
  },
  {
   "cell_type": "code",
   "execution_count": 16,
   "id": "8c011aad",
   "metadata": {},
   "outputs": [
    {
     "name": "stdout",
     "output_type": "stream",
     "text": [
      "[1, 3, 56, 53, 543, 354, 4, 46, 67, 86, 33]\n"
     ]
    }
   ],
   "source": [
    "15.#Write a Python program to get unique values from a list?\n",
    "l1=[1,3,56,56,53,543,354,4,4,3,46,67,86,3,33,3,3,3,]\n",
    "n=[]\n",
    "for t in l1:\n",
    "    if t not in n:\n",
    "        n.append(t)\n",
    "print(n)"
   ]
  },
  {
   "cell_type": "code",
   "execution_count": 17,
   "id": "d515a0c9",
   "metadata": {},
   "outputs": [
    {
     "name": "stdout",
     "output_type": "stream",
     "text": [
      "This is sub list\n"
     ]
    }
   ],
   "source": [
    "16.#Write a Python program to check whether a list contains a sub list?\n",
    "list1=[1,2,[3,4,5],6,7]\n",
    "list2=[3,4,5]\n",
    "if list2 in list1:\n",
    "    print(\"This is sub list\")\n",
    "else:\n",
    "    print(\"Not a sub list\")\n"
   ]
  },
  {
   "cell_type": "code",
   "execution_count": 18,
   "id": "58c37fe2",
   "metadata": {},
   "outputs": [
    {
     "name": "stdout",
     "output_type": "stream",
     "text": [
      "['Black', '#000000', 'rgb(0, 0, 0)']\n",
      "['Red', '#FF0000', 'rgb(255, 0, 0)']\n",
      "['orange', '#FFFF00', 'rgb(255, 255, 0)']\n",
      "['pink', '#FFFF00', 'rgb(255, 255, 0)']\n"
     ]
    }
   ],
   "source": [
    "17.#Write a Python program to split a list into different variables?\n",
    "color = [[\"Black\", \"#000000\", \"rgb(0, 0, 0)\"], [\"Red\", \"#FF0000\", \"rgb(255, 0, 0)\"],\n",
    "         [\"orange\", \"#FFFF00\", \"rgb(255, 255, 0)\"], [\"pink\", \"#FFFF00\", \"rgb(255, 255, 0)\"]]\n",
    "var1, var2, var3,var4 = color\n",
    "print(var1)\n",
    "print(var2)\n",
    "print(var3)\n",
    "print(var4) "
   ]
  },
  {
   "cell_type": "code",
   "execution_count": null,
   "id": "e2927d02",
   "metadata": {},
   "outputs": [],
   "source": [
    "18.#What is tuple? Difference between list and tuple?\n",
    "''' Ans:- Tuple is represented by ( ) if only one element in tuple so after\n",
    "            mention comma, then it is define tuple\n",
    "            length of tuple is fixed and immutable. \n",
    "            length of list is not fixed and mutable.\n",
    "            '''"
   ]
  },
  {
   "cell_type": "code",
   "execution_count": 20,
   "id": "3b327673",
   "metadata": {},
   "outputs": [
    {
     "name": "stdout",
     "output_type": "stream",
     "text": [
      "('hasmukh', True, 56.4, 6)\n"
     ]
    }
   ],
   "source": [
    "19.#Write a Python program to create a tuple with different data types?\n",
    "tup=('hasmukh',True,56.4,6)\n",
    "print(tup)"
   ]
  },
  {
   "cell_type": "code",
   "execution_count": 21,
   "id": "7f849063",
   "metadata": {},
   "outputs": [
    {
     "name": "stdout",
     "output_type": "stream",
     "text": [
      "(0, 1, 2, 3, 4, 5, 6, 7)\n"
     ]
    }
   ],
   "source": [
    "20.#Write a Python program to create a tuple with numbers?\n",
    "tup=(0,1,2,3,4,5,6,7)\n",
    "print(tup)"
   ]
  },
  {
   "cell_type": "code",
   "execution_count": 22,
   "id": "70513281",
   "metadata": {},
   "outputs": [
    {
     "name": "stdout",
     "output_type": "stream",
     "text": [
      "Tuple converted to string: 12345\n"
     ]
    }
   ],
   "source": [
    "21.#Write a Python program to convert a tuple to a string?\n",
    "def tuple_to_string(t):\n",
    "    # Convert each element of the tuple to a string\n",
    "    string_tuple = [str(element) for element in t]\n",
    "    \n",
    "    # Join the elements together into a single string\n",
    "    result = ''.join(string_tuple)\n",
    "    \n",
    "    return result\n",
    "\n",
    "# Example usage\n",
    "my_tuple = (1, 2, 3, 4, 5)\n",
    "result_string = tuple_to_string(my_tuple)\n",
    "print(\"Tuple converted to string:\", result_string)"
   ]
  },
  {
   "cell_type": "code",
   "execution_count": 24,
   "id": "97c14606",
   "metadata": {},
   "outputs": [
    {
     "name": "stdout",
     "output_type": "stream",
     "text": [
      "True\n",
      "True\n",
      "False\n"
     ]
    }
   ],
   "source": [
    "22.#Write a Python program to check whether an element exists within a tuple?\n",
    "tup=(\"hasu\",6,5,4,3,2,1,2,34)\n",
    "print(\"hasu\" in tup)\n",
    "print(2 in tup)\n",
    "print(8 in tup)"
   ]
  },
  {
   "cell_type": "code",
   "execution_count": 25,
   "id": "4fef2d70",
   "metadata": {},
   "outputs": [
    {
     "name": "stdout",
     "output_type": "stream",
     "text": [
      "18\n"
     ]
    }
   ],
   "source": [
    "23.#Write a Python program to find the length of a tuple? \n",
    "tup=(\"vraj\",5,6,4,3,2,12,3,4,4,5,6,6,7,7,8,8,8)\n",
    "print(len(tup))"
   ]
  },
  {
   "cell_type": "code",
   "execution_count": 26,
   "id": "272410c3",
   "metadata": {},
   "outputs": [
    {
     "name": "stdout",
     "output_type": "stream",
     "text": [
      "(47, 76, 4, 56, 6, 75, 6, 7, 5, 7)\n"
     ]
    }
   ],
   "source": [
    "24.#Write a Python program to convert a list to a tuple?\n",
    "l=[47,76,4,56,6,75,6,7,5,7,]\n",
    "tup=tuple(l)\n",
    "print(tup)"
   ]
  },
  {
   "cell_type": "code",
   "execution_count": 27,
   "id": "3a5acf7e",
   "metadata": {},
   "outputs": [
    {
     "name": "stdout",
     "output_type": "stream",
     "text": [
      "(8, 5, 'ttt', 8, 6, 'kd')\n",
      "('kd', 6, 8, 'ttt', 5)\n"
     ]
    }
   ],
   "source": [
    "25.#Write a Python program to reverse a tuple?\n",
    "tup=(8,5,\"ttt\",8,6,\"kd\")\n",
    "print(tup)\n",
    "print(tup[-1:0:-1])"
   ]
  },
  {
   "cell_type": "code",
   "execution_count": 28,
   "id": "154c9b84",
   "metadata": {},
   "outputs": [
    {
     "name": "stdout",
     "output_type": "stream",
     "text": [
      "[(1, 2, 'yyyy')]\n"
     ]
    }
   ],
   "source": [
    "26.#Write a Python program to replace last value of tuples in a list? \n",
    "l1 = [(1, 2, 6)]\n",
    "print([replace[:-1] + (\"yyyy\",) for replace in l1] )"
   ]
  },
  {
   "cell_type": "code",
   "execution_count": 29,
   "id": "ea818193",
   "metadata": {},
   "outputs": [
    {
     "name": "stdout",
     "output_type": "stream",
     "text": [
      "(5, 6, 7, 6, 5, 6, 5, 4, 4, 5, 6, 6)\n",
      "4\n"
     ]
    }
   ],
   "source": [
    "27.#Write a Python program to find the repeated items of a tuple?\n",
    "y = (5,6,7,6,5,6,5,4,4,5,6,6)\n",
    "print(y)\n",
    "count = y.count(5) #check 5 is how many times repeated in tuple\n",
    "print(count)\n"
   ]
  },
  {
   "cell_type": "code",
   "execution_count": null,
   "id": "3a43e5c0",
   "metadata": {},
   "outputs": [],
   "source": [
    "28.#Write a Python program to remove an empty tuple(s) from a list of tuples?\n",
    "def remove(tuples):\n",
    "    for i in tuples:\n",
    "        if(i==()):\n",
    "            tuples.remove(i)\n",
    "    return tuples\n",
    "tuples = [(), ('hari','15','8'), (), ('syam', 'radha'),('krishna', '', '45'), ('',''),()]\n",
    "print(Remove(tuples))\n"
   ]
  },
  {
   "cell_type": "code",
   "execution_count": null,
   "id": "2770c0ae",
   "metadata": {},
   "outputs": [],
   "source": [
    "29.# Write a Python program to unzip a list of tuples into individual lists?\n",
    "l = [(1,2), (3,4), (8,4)] # list of tuples \n",
    "print(list(zip(*l))) # Zip and individual lists"
   ]
  },
  {
   "cell_type": "code",
   "execution_count": 31,
   "id": "587ec80a",
   "metadata": {},
   "outputs": [
    {
     "name": "stdout",
     "output_type": "stream",
     "text": [
      "{'raj': 15, 'krish': 19, 'yash': 54, 'vraj': 88}\n"
     ]
    }
   ],
   "source": [
    "30.#Write a Python program to convert a list of tuples into a dictionary?\n",
    "#first method\n",
    "tuple_dic = [(\"raj\", 15), (\"krish\", 19), (\"yash\", 54),(\"vraj\", 88)]\n",
    "d1={}\n",
    "d2 = dict(tuple_dic)\n",
    "print(d2)"
   ]
  },
  {
   "cell_type": "code",
   "execution_count": 32,
   "id": "b4851cb2",
   "metadata": {},
   "outputs": [
    {
     "name": "stdout",
     "output_type": "stream",
     "text": [
      "{'yy': 44, 'rr': 77}\n"
     ]
    }
   ],
   "source": [
    "31.#How will you create a dictionary using tuples in python?\n",
    "tup1=((\"yy\",44),(\"rr\",77)) #create tuple \n",
    "d1=dict(tup1) #dict function to convert tuple to dictionary\n",
    "print(d1) "
   ]
  },
  {
   "cell_type": "code",
   "execution_count": 33,
   "id": "57865b15",
   "metadata": {},
   "outputs": [
    {
     "name": "stdout",
     "output_type": "stream",
     "text": [
      "Sorted dictionary is :\n",
      "[(1, 'a'), (2, 'b'), (3, 'c'), (4, 'd')]\n"
     ]
    }
   ],
   "source": [
    "32.#Write a Python script to sort (ascending and descending) a dictionary by value?\n",
    "my_dict = {'c': 3,\n",
    "           'a': 1,\n",
    "           'd': 4,\n",
    "           'b': 2}\n",
    " \n",
    "sorted_dict = sorted([(value, key)\n",
    "for (key, value) in my_dict.items()])\n",
    "\n",
    "print(\"Sorted dictionary is :\")\n",
    "print(sorted_dict)"
   ]
  },
  {
   "cell_type": "code",
   "execution_count": 34,
   "id": "06ac6ff4",
   "metadata": {},
   "outputs": [
    {
     "name": "stdout",
     "output_type": "stream",
     "text": [
      "Object `one` not found.\n",
      "{1: 10, 2: 20, 3: 30, 4: 40, 5: 50, 6: 60}\n"
     ]
    }
   ],
   "source": [
    "33.Write a Python script to concatenate following dictionaries to create a new one?\n",
    "dic1={1:10, 2:20}\n",
    "dic2={3:30, 4:40}\n",
    "dic3={5:50,6:60}\n",
    "dic4 = {}\n",
    "for d in (dic1, dic2, dic3):\n",
    "    dic4.update(d)\n",
    "print(dic4)"
   ]
  },
  {
   "cell_type": "code",
   "execution_count": 35,
   "id": "4449acaf",
   "metadata": {},
   "outputs": [
    {
     "name": "stdout",
     "output_type": "stream",
     "text": [
      "Present,  value = 100\n"
     ]
    }
   ],
   "source": [
    "34.#Write a Python script to check if a given key already exists in a dictionary?\n",
    "dic = {'a': 100, 'b':200, 'c':300}\n",
    "key = 'a'\n",
    "if key in dic.keys():\n",
    "    print(\"Present, \", end =\" \")\n",
    "    print(\"value =\", dic[key])\n",
    "else:\n",
    "        print(\"Not present\")  "
   ]
  },
  {
   "cell_type": "code",
   "execution_count": 36,
   "id": "8a14142b",
   "metadata": {},
   "outputs": [
    {
     "name": "stdout",
     "output_type": "stream",
     "text": [
      "desert safari\n",
      "year 2024\n",
      "rajasthan jaisalmer\n",
      "mobile 7745866666\n"
     ]
    }
   ],
   "source": [
    "35.#How Do You Traverse Through A Dictionary Object In Python?\n",
    "dictionary = { \n",
    "   'desert': 'safari', \n",
    "   'year': '2024', \n",
    "   'rajasthan': 'jaisalmer', \n",
    "   'mobile': '7745866666' \n",
    "}\n",
    "\n",
    "for keys, values in dictionary.items(): \n",
    "   print(keys ,values)"
   ]
  },
  {
   "cell_type": "code",
   "execution_count": 37,
   "id": "754ee203",
   "metadata": {},
   "outputs": [
    {
     "name": "stdout",
     "output_type": "stream",
     "text": [
      "Not Present\n"
     ]
    }
   ],
   "source": [
    "36.#How Do You Check The Presence Of A Key In A Dictionary?\n",
    "dic = {'a': 100, 'b':200, 'c':300}\n",
    " \n",
    "# check if \"b\" is none or not.\n",
    "if dic.get('d') == None:\n",
    "  print(\"Not Present\")\n",
    "else:\n",
    "  print(\"Present\")"
   ]
  },
  {
   "cell_type": "code",
   "execution_count": 38,
   "id": "408b53c7",
   "metadata": {},
   "outputs": [
    {
     "name": "stdout",
     "output_type": "stream",
     "text": [
      "{1: 1, 2: 2, 3: 3, 4: 4, 5: 5, 6: 6, 7: 7, 8: 8, 9: 9, 10: 10, 11: 11, 12: 12, 13: 13, 14: 14, 15: 15}\n"
     ]
    }
   ],
   "source": [
    "37.#Write a Python script to print a dictionary where the keys are number between 1 and 15?\n",
    "d=dict()\n",
    "for x in range(1,16):\n",
    "    d[x]=x\n",
    "print(d)  "
   ]
  },
  {
   "cell_type": "code",
   "execution_count": null,
   "id": "a0e3c3f7",
   "metadata": {},
   "outputs": [],
   "source": [
    "38.#Write a Python program to check multiple keys exists in a dictionary\n",
    "sports = {\"geeksforgeeks\" : 1, \"practice\" : 2, \"contribute\" :3}\n",
    "print(sports.keys() >= {\"geeksforgeeks\", \"om\"})\n",
    "print(sports.keys()>={\"contribute\", \"practice\",\"geeksforgeeks\"})"
   ]
  },
  {
   "cell_type": "code",
   "execution_count": 39,
   "id": "dafa4a30",
   "metadata": {},
   "outputs": [
    {
     "name": "stdout",
     "output_type": "stream",
     "text": [
      "{'a': 200, 'b': 400, 'x': 500, 'y': 200}\n"
     ]
    }
   ],
   "source": [
    "39.#Write a Python script to merge two Python dictionaries\n",
    "d1 = {'a': 200, 'b': 400}\n",
    "d2 = {'x': 500, 'y': 200}\n",
    "d = d1.copy()\n",
    "d.update(d2)\n",
    "print(d)"
   ]
  },
  {
   "cell_type": "code",
   "execution_count": 40,
   "id": "b3c17876",
   "metadata": {},
   "outputs": [
    {
     "name": "stdout",
     "output_type": "stream",
     "text": [
      "{'apple': 55, 'strawberry': 78, 'Banana': 110, 'watermelon': 60}\n"
     ]
    }
   ],
   "source": [
    "\n",
    "40.#Write a Python program to map two lists into a dictionary?\n",
    "fruits = ['apple', 'strawberry', 'Banana','watermelon']\n",
    "price = [55, 78, 110, 60]\n",
    "\n",
    "fruits_price = zip(fruits, price)\n",
    "\n",
    "fruits_dict = {}\n",
    "\n",
    "for key, value in fruits_price:\n",
    "    if key in fruits_dict:\n",
    "        pass \n",
    "    else:\n",
    "        fruits_dict[key] = value\n",
    "        \n",
    "print(fruits_dict)"
   ]
  },
  {
   "cell_type": "code",
   "execution_count": 41,
   "id": "a50de947",
   "metadata": {},
   "outputs": [
    {
     "name": "stdout",
     "output_type": "stream",
     "text": [
      "{'a': 10, 'b': 205, 'c': 45, 'd': 25}\n"
     ]
    }
   ],
   "source": [
    "\n",
    " '''41. Write a Python program to combine two dictionary adding values for common keys\n",
    "d1 = {'a': 100, 'b': 200, 'c':300} o d2 = {'a': 300, 'b': 200,’d’:400}\n",
    "Sample output: Counter ({'a': 400, 'b': 400,’d’: 400, 'c': 300}). '''\n",
    "def combine_dicts(dict1, dict2):\n",
    "    dict3 = dict1.copy()\n",
    "    for i, j in dict2.items():\n",
    "        if i in dict3:\n",
    "            dict3[i] += j\n",
    "        else:\n",
    "            dict3[i] = j\n",
    "\n",
    "    return dict3\n",
    "dict1 = {'a': 10, 'b': 200, 'c': 30}\n",
    "dict2 = {'b': 5, 'c': 15, 'd': 25}\n",
    "combined = combine_dicts(dict1, dict2)\n",
    "print(combined)"
   ]
  },
  {
   "cell_type": "code",
   "execution_count": 42,
   "id": "155ae109",
   "metadata": {},
   "outputs": [
    {
     "name": "stdout",
     "output_type": "stream",
     "text": [
      "{1, 2, 3, 4}\n"
     ]
    }
   ],
   "source": [
    "42.#Write a Python program to print all unique values in a dictionary?\n",
    "my_dict = {'a': 1, 'b': 2, 'c': 3, 'd': 2,'e':2,'f':4} \n",
    "unique_value = set() \n",
    "for value in my_dict.values():\n",
    "  unique_value.add(value)\n",
    "print(unique_value)"
   ]
  },
  {
   "cell_type": "code",
   "execution_count": null,
   "id": "a1e960ad",
   "metadata": {},
   "outputs": [],
   "source": [
    "43.#Why Do You Use the Zip () Method in Python?\n",
    "'''\n",
    " Ans :- Zip function is used in combined two or more iterable dictionary to one iterable\n",
    " dictionary.\n",
    "'''"
   ]
  },
  {
   "cell_type": "code",
   "execution_count": null,
   "id": "09285e46",
   "metadata": {},
   "outputs": [],
   "source": [
    "\n",
    "'''44.\n",
    "Write a Python program to create and display all combinations of letters,\n",
    "selecting each letter from a different key in a dictionary. \n",
    "'''"
   ]
  },
  {
   "cell_type": "code",
   "execution_count": 43,
   "id": "04d768c9",
   "metadata": {},
   "outputs": [
    {
     "name": "stdout",
     "output_type": "stream",
     "text": [
      "Dictionary with 3 highest values:\n",
      "Keys: Values\n"
     ]
    },
    {
     "ename": "TypeError",
     "evalue": "'list' object is not callable",
     "output_type": "error",
     "traceback": [
      "\u001b[1;31m---------------------------------------------------------------------------\u001b[0m",
      "\u001b[1;31mTypeError\u001b[0m                                 Traceback (most recent call last)",
      "Cell \u001b[1;32mIn[43], line 6\u001b[0m\n\u001b[0;32m      4\u001b[0m \u001b[38;5;28mprint\u001b[39m(\u001b[38;5;124m\"\u001b[39m\u001b[38;5;124mDictionary with 3 highest values:\u001b[39m\u001b[38;5;124m\"\u001b[39m)\n\u001b[0;32m      5\u001b[0m \u001b[38;5;28mprint\u001b[39m(\u001b[38;5;124m\"\u001b[39m\u001b[38;5;124mKeys: Values\u001b[39m\u001b[38;5;124m\"\u001b[39m)\n\u001b[1;32m----> 6\u001b[0m x\u001b[38;5;241m=\u001b[39m\u001b[38;5;28mlist\u001b[39m(my_dict\u001b[38;5;241m.\u001b[39mvalues())\n\u001b[0;32m      7\u001b[0m d\u001b[38;5;241m=\u001b[39m\u001b[38;5;28mdict\u001b[39m()\n\u001b[0;32m      8\u001b[0m \u001b[38;5;28mprint\u001b[39m(x)\n",
      "\u001b[1;31mTypeError\u001b[0m: 'list' object is not callable"
     ]
    }
   ],
   "source": [
    "45.#Write a Python program to find the highest 3 values in a dictionary?\n",
    "my_dict = {'A': 67, 'B': 23, 'C': 45,\n",
    "           'D': 56, 'E': 12, 'F': 69}\n",
    "print(\"Dictionary with 3 highest values:\")\n",
    "print(\"Keys: Values\")\n",
    "x=list(my_dict.values())\n",
    "d=dict()\n",
    "print(x)"
   ]
  },
  {
   "cell_type": "code",
   "execution_count": 44,
   "id": "901e581b",
   "metadata": {},
   "outputs": [
    {
     "name": "stdout",
     "output_type": "stream",
     "text": [
      "{'item1': 1150, 'item2': 300}\n"
     ]
    }
   ],
   "source": [
    "46.#Write a Python program to combine values in python list of dictionaries? \n",
    "sample_data = [{'item': 'item1', 'amount': 400}, {'item': 'item2', 'amount': 300},\n",
    "               {'item': 'item1', 'amount': 750}]\n",
    "\n",
    "combined_data = {}\n",
    "\n",
    "for i in sample_data:\n",
    "    item = i['item']\n",
    "    amount = i['amount']\n",
    "    if item in combined_data:\n",
    "        combined_data[item] += amount\n",
    "    else:\n",
    "        combined_data[item] = amount\n",
    "\n",
    "print(combined_data)"
   ]
  },
  {
   "cell_type": "code",
   "execution_count": 45,
   "id": "44bd739a",
   "metadata": {},
   "outputs": [
    {
     "name": "stdout",
     "output_type": "stream",
     "text": [
      "{'B': 1, 'h': 2, 'a': 2, 'n': 1, 'd': 1, 'e': 1, 'r': 1, 'i': 1, ' ': 1, 'y': 1, 'u': 1, 's': 1}\n"
     ]
    }
   ],
   "source": [
    "\n",
    "47.#Write a Python program to create a dictionary from a string?\n",
    "def letter_count_dict(string):\n",
    "    letter_count = {}\n",
    "    for letter in string:\n",
    "        if letter in letter_count:\n",
    "            letter_count[letter] += 1\n",
    "        else:\n",
    "            letter_count[letter] = 1\n",
    "    return letter_count\n",
    "\n",
    "sample_string = 'Bhanderi ayush'\n",
    "result = letter_count_dict(sample_string)\n",
    "print(result)"
   ]
  },
  {
   "cell_type": "code",
   "execution_count": 46,
   "id": "374004b7",
   "metadata": {},
   "outputs": [
    {
     "name": "stdout",
     "output_type": "stream",
     "text": [
      "The factorial of 5 is 120\n"
     ]
    }
   ],
   "source": [
    "48.#Write a Python function to calculate the factorial of a number (anonnegative integer)?\n",
    "def factorial(n):\n",
    "    if n < 0:\n",
    "        print(\"Factorial is not defined for negative numbers.\")\n",
    "    if n == 0 or n == 1:\n",
    "        return 1\n",
    "    else:\n",
    "        result = 1\n",
    "        for i in range(2, n + 1):\n",
    "            result *= i\n",
    "        return result\n",
    "num = 5\n",
    "fact = factorial(num)\n",
    "print(f\"The factorial of {num} is {fact}\")"
   ]
  },
  {
   "cell_type": "code",
   "execution_count": 47,
   "id": "9dc48315",
   "metadata": {},
   "outputs": [
    {
     "name": "stdout",
     "output_type": "stream",
     "text": [
      "15 is in the range between 10 and 20.\n"
     ]
    }
   ],
   "source": [
    "49.#Write a Python function to check whether a number is in a given range?\n",
    "def range_bet(number, lower, upper):\n",
    "    return lower <= number <= upper\n",
    "num = 15\n",
    "lower = 10\n",
    "upper = 20\n",
    "if range_bet(num, lower, upper):\n",
    "    print(f\"{num} is in the range between {lower} and {upper}.\")\n",
    "else:\n",
    "    print(f\"{num} is not in the range between {lower} and {upper}.\")"
   ]
  },
  {
   "cell_type": "code",
   "execution_count": 48,
   "id": "44d3f7da",
   "metadata": {},
   "outputs": [
    {
     "name": "stdout",
     "output_type": "stream",
     "text": [
      "Enter a number: 65\n",
      "65 is not a perfect number.\n"
     ]
    }
   ],
   "source": [
    "\n",
    "50.#Write a Python function to check whether a number is perfect or not? \n",
    "def perfect_number(number):\n",
    "    if number <= 0:\n",
    "        return False\n",
    "\n",
    "    divisors_sum = 0\n",
    "    for i in range(1, number):\n",
    "        if number % i == 0:\n",
    "            divisors_sum += i\n",
    "\n",
    "    return divisors_sum == number\n",
    "\n",
    "num = int(input(\"Enter a number: \"))\n",
    "if perfect_number(num):\n",
    "    print(num, \"is a perfect number.\")\n",
    "else:\n",
    "    print(num, \"is not a perfect number.\")"
   ]
  },
  {
   "cell_type": "code",
   "execution_count": 49,
   "id": "b5d70a93",
   "metadata": {},
   "outputs": [
    {
     "name": "stdout",
     "output_type": "stream",
     "text": [
      "Enter string:-5\n",
      "The string is palindrome.\n"
     ]
    }
   ],
   "source": [
    "51.#Write a Python function that checks whether a passed string is palindrome or not?\n",
    "\n",
    "def pali(string):\n",
    "    if(string==string[::-1]):\n",
    "        return \"The string is palindrome.\"\n",
    "    else:\n",
    "        return \"The string is  not plalindrome\"\n",
    "string=input(\"Enter string:-\")\n",
    "print(pali(string))"
   ]
  },
  {
   "cell_type": "code",
   "execution_count": null,
   "id": "fba311dd",
   "metadata": {},
   "outputs": [],
   "source": [
    "52.#How Many Basic Types Of Functions Are Available In Python?\n",
    "'''\n",
    " ans: There are two types of function :-\n",
    "user-defined functions > these types of function are defined by the user to perform\n",
    "any specific task . ex. func(),etc.\n",
    "Built-in Functions > These type of function are predefined function.\n",
    "ex. print() , len(),etc."
   ]
  },
  {
   "cell_type": "code",
   "execution_count": 50,
   "id": "9ba9a2cb",
   "metadata": {},
   "outputs": [
    {
     "name": "stdout",
     "output_type": "stream",
     "text": [
      "The given input tuple:  (47, 4, 22, 'ahdh', 'e4y4y', 89)\n",
      "The generated random tuple item =  4\n"
     ]
    }
   ],
   "source": [
    "53.#How can you pick a random item from a list or tuple?\n",
    "import random\n",
    "Tup = (47,4,22,\"ahdh\",\"e4y4y\",89)\n",
    "print(\"The given input tuple: \", Tup)\n",
    "randomItem = random.choice(Tup)\n",
    "print(\"The generated random tuple item = \", randomItem)"
   ]
  },
  {
   "cell_type": "code",
   "execution_count": 51,
   "id": "97c834e7",
   "metadata": {},
   "outputs": [
    {
     "name": "stdout",
     "output_type": "stream",
     "text": [
      "Random Numbers from 1 to 20 are:\n",
      "39\n"
     ]
    }
   ],
   "source": [
    "54.#How can you pick a random item from a range?\n",
    "import random\n",
    "print('Random Numbers from 1 to 20 are:')\n",
    "x=random.randrange(1,50)\n",
    "print(x)"
   ]
  },
  {
   "cell_type": "code",
   "execution_count": 52,
   "id": "c649d1ad",
   "metadata": {},
   "outputs": [
    {
     "name": "stdout",
     "output_type": "stream",
     "text": [
      "1\n"
     ]
    }
   ],
   "source": [
    "\n",
    "55.#How can you get a random number in python?\n",
    "import random\n",
    "print(random.randint(0,9))"
   ]
  },
  {
   "cell_type": "code",
   "execution_count": 53,
   "id": "f256aceb",
   "metadata": {},
   "outputs": [
    {
     "name": "stdout",
     "output_type": "stream",
     "text": [
      "90\n"
     ]
    }
   ],
   "source": [
    "56.#How will you set the starting value in generating random numbers? \n",
    "import random\n",
    "random_number = random.randint(1, 100)\n",
    "print(random_number)"
   ]
  },
  {
   "cell_type": "code",
   "execution_count": 54,
   "id": "7a837c64",
   "metadata": {},
   "outputs": [
    {
     "name": "stdout",
     "output_type": "stream",
     "text": [
      "Reshuffled list :  [77, 65, 99, 85, 45]\n",
      "Reshuffled list :  [99, 85, 45, 65, 77]\n"
     ]
    }
   ],
   "source": [
    "57.#How will you randomizes the items of a list in place?\n",
    "import random\n",
    "\n",
    "l= [77,85,45, 99,65];\n",
    "random.shuffle(l)\n",
    "print (\"Reshuffled list : \",  l)\n",
    "\n",
    "random.shuffle(l)\n",
    "print (\"Reshuffled list : \",  l)"
   ]
  },
  {
   "cell_type": "code",
   "execution_count": null,
   "id": "26197198",
   "metadata": {},
   "outputs": [],
   "source": [
    "58.#Write a Python program to read a random line from a file?\n",
    "import random\n",
    "def random_line(fname):\n",
    "    lines = open(fname).read().splitlines()\n",
    "    return random.choice(lines)\n",
    "print(random_line('test.txt'))"
   ]
  },
  {
   "cell_type": "code",
   "execution_count": 56,
   "id": "937da374",
   "metadata": {},
   "outputs": [
    {
     "name": "stdout",
     "output_type": "stream",
     "text": [
      "Enter degree:- 2\n",
      "0.03488888888888889\n"
     ]
    }
   ],
   "source": [
    "59.#Write a Python program to convert degree to radian\n",
    "# formula:- radians = degrees * (pi / 180)\n",
    "# degree > radian\n",
    "d = int(input(\"Enter degree:- \"))\n",
    "r = d*(3.14/180)\n",
    "print(r)"
   ]
  },
  {
   "cell_type": "code",
   "execution_count": 57,
   "id": "3d149695",
   "metadata": {},
   "outputs": [
    {
     "name": "stdout",
     "output_type": "stream",
     "text": [
      "Enter length 1 :-2\n",
      "Enter length 2 :-8\n",
      "Enter Heigth :-4\n",
      "20.0\n"
     ]
    }
   ],
   "source": [
    "60.#Write a Python program to calculate the area of a trapezoid\n",
    "# formula :- Area = (1/2) * (a + b) * h\n",
    "x=int(input(\"Enter length 1 :-\"))\n",
    "y=int(input(\"Enter length 2 :-\"))\n",
    "z=int(input(\"Enter Heigth :-\"))\n",
    "area=0.5*(x+y)*z\n",
    "print(area)"
   ]
  },
  {
   "cell_type": "code",
   "execution_count": null,
   "id": "ae3bf0ba",
   "metadata": {},
   "outputs": [],
   "source": [
    "61.#Write a Python program to calculate the area of a parallelogram\n",
    "# formula:- Area = base * height\n",
    "base= int(input(\"Enter value of base :- \"))\n",
    "height= int(input(\"Enter value of hiegth :-\"))\n",
    "area= base*height\n",
    "print(area)"
   ]
  },
  {
   "cell_type": "code",
   "execution_count": 58,
   "id": "0616a379",
   "metadata": {},
   "outputs": [
    {
     "name": "stdout",
     "output_type": "stream",
     "text": [
      "\n",
      "                    cylinder\n",
      "        1. surface\n",
      "        2. volume\n",
      "        3. area\n",
      "\n",
      "Enter any choice to find :-1\n",
      "Enter radius :-2\n",
      "Enter hieght :- 8\n",
      "surface of cylinder is :-  125.60000000000001\n"
     ]
    }
   ],
   "source": [
    "62.#Write a Python program to calculate surface volume and area of a cylinder \n",
    "# surface :- SA = 2πr**2 + 2πrh   \n",
    "# volume :- V = πr**2h\n",
    "# area :-  2 π r h\n",
    "print('''\n",
    "                    cylinder\n",
    "        1. surface\n",
    "        2. volume\n",
    "        3. area\n",
    "''')\n",
    "user=int(input(\"Enter any choice to find :-\"))\n",
    "if user==1:\n",
    "    radius=int(input(\"Enter radius :-\"))\n",
    "    hieght=int(input(\"Enter hieght :- \"))\n",
    "    surface=2*3.14*radius**2+2*3.14*radius*hieght\n",
    "    print(\"surface of cylinder is :- \",surface)\n",
    "elif user==2:\n",
    "    radius=int(input(\"Enter radius :-\"))\n",
    "    hieght=int(input(\"Enter hieght :- \"))\n",
    "    volume=3.14*radius**2*hieght\n",
    "    print(\"volume of cylinder is :- \",volume)\n",
    "elif user==3:\n",
    "    radius=int(input(\"Enter radius :-\"))\n",
    "    hieght=int(input(\"Enter hieght :- \"))\n",
    "    area=2*3.14*radius*hieght\n",
    "    print(\" Area of cylinder is :- \",area)"
   ]
  },
  {
   "cell_type": "code",
   "execution_count": 59,
   "id": "496b1b3e",
   "metadata": {},
   "outputs": [
    {
     "name": "stdout",
     "output_type": "stream",
     "text": [
      "Enter a value: 2\n",
      "1\n"
     ]
    }
   ],
   "source": [
    "63.#Write a Python program to returns sum of all divisors of a number?\n",
    "n=int(input('Enter a value: '))\n",
    "yy=0\n",
    "for x in range(1, n):\n",
    "  if n % x ==0:\n",
    "    yy += x\n",
    "else:\n",
    "  print(yy)"
   ]
  },
  {
   "cell_type": "code",
   "execution_count": null,
   "id": "d87e3078",
   "metadata": {},
   "outputs": [],
   "source": [
    "64.#Write a Python program to find the maximum and minimum numbers from the specified decimal numbers.\n",
    "decimal_num= [3.14, 1.618, 2.718, 0.577, 4.669]\n",
    "\n",
    "maximum_num = max(decimal_num)\n",
    "minimum_num = min(decimal_num)\n",
    "\n",
    "print(\"Maximum number:\",maximum_num)\n",
    "print(\"Minimum number: \",minimum_num)"
   ]
  }
 ],
 "metadata": {
  "kernelspec": {
   "display_name": "Python 3 (ipykernel)",
   "language": "python",
   "name": "python3"
  },
  "language_info": {
   "codemirror_mode": {
    "name": "ipython",
    "version": 3
   },
   "file_extension": ".py",
   "mimetype": "text/x-python",
   "name": "python",
   "nbconvert_exporter": "python",
   "pygments_lexer": "ipython3",
   "version": "3.11.5"
  }
 },
 "nbformat": 4,
 "nbformat_minor": 5
}
